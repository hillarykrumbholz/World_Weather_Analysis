{
 "cells": [
  {
   "cell_type": "code",
   "execution_count": 3,
   "metadata": {},
   "outputs": [],
   "source": [
    "# Import the dependencies.\n",
    "import pandas as pd\n",
    "import gmaps\n",
    "import gmaps.datasets\n",
    "import requests\n",
    "# Import the API key.\n",
    "from config import g_key"
   ]
  },
  {
   "cell_type": "code",
   "execution_count": 5,
   "metadata": {},
   "outputs": [],
   "source": [
    "# Configure gmaps to use your Google API key.\n",
    "gmaps.configure(api_key=g_key)"
   ]
  },
  {
   "cell_type": "code",
   "execution_count": 17,
   "metadata": {},
   "outputs": [
    {
     "data": {
      "text/html": [
       "<div>\n",
       "<style scoped>\n",
       "    .dataframe tbody tr th:only-of-type {\n",
       "        vertical-align: middle;\n",
       "    }\n",
       "\n",
       "    .dataframe tbody tr th {\n",
       "        vertical-align: top;\n",
       "    }\n",
       "\n",
       "    .dataframe thead th {\n",
       "        text-align: right;\n",
       "    }\n",
       "</style>\n",
       "<table border=\"1\" class=\"dataframe\">\n",
       "  <thead>\n",
       "    <tr style=\"text-align: right;\">\n",
       "      <th></th>\n",
       "      <th>City_ID</th>\n",
       "      <th>City</th>\n",
       "      <th>Country</th>\n",
       "      <th>Max Temp</th>\n",
       "      <th>Weather Description</th>\n",
       "      <th>Lat</th>\n",
       "      <th>Lng</th>\n",
       "      <th>Hotel Name</th>\n",
       "    </tr>\n",
       "  </thead>\n",
       "  <tbody>\n",
       "    <tr>\n",
       "      <th>0</th>\n",
       "      <td>0</td>\n",
       "      <td>Busselton</td>\n",
       "      <td>AU</td>\n",
       "      <td>87.01</td>\n",
       "      <td>clear sky</td>\n",
       "      <td>-33.64</td>\n",
       "      <td>115.35</td>\n",
       "      <td>Observatory Guest House</td>\n",
       "    </tr>\n",
       "    <tr>\n",
       "      <th>1</th>\n",
       "      <td>1</td>\n",
       "      <td>Rikitea</td>\n",
       "      <td>PF</td>\n",
       "      <td>75.65</td>\n",
       "      <td>broken clouds</td>\n",
       "      <td>-23.12</td>\n",
       "      <td>-134.97</td>\n",
       "      <td>Pension Maro'i</td>\n",
       "    </tr>\n",
       "    <tr>\n",
       "      <th>2</th>\n",
       "      <td>9</td>\n",
       "      <td>Cockburn Town</td>\n",
       "      <td>TC</td>\n",
       "      <td>76.89</td>\n",
       "      <td>scattered clouds</td>\n",
       "      <td>21.46</td>\n",
       "      <td>-71.14</td>\n",
       "      <td>Osprey Beach Hotel</td>\n",
       "    </tr>\n",
       "    <tr>\n",
       "      <th>3</th>\n",
       "      <td>11</td>\n",
       "      <td>East London</td>\n",
       "      <td>ZA</td>\n",
       "      <td>73.40</td>\n",
       "      <td>overcast clouds</td>\n",
       "      <td>-33.02</td>\n",
       "      <td>27.91</td>\n",
       "      <td>Tu Casa</td>\n",
       "    </tr>\n",
       "    <tr>\n",
       "      <th>4</th>\n",
       "      <td>13</td>\n",
       "      <td>Arraial Do Cabo</td>\n",
       "      <td>BR</td>\n",
       "      <td>73.40</td>\n",
       "      <td>broken clouds</td>\n",
       "      <td>-22.97</td>\n",
       "      <td>-42.02</td>\n",
       "      <td>Pousada Porto Praia</td>\n",
       "    </tr>\n",
       "    <tr>\n",
       "      <th>...</th>\n",
       "      <td>...</td>\n",
       "      <td>...</td>\n",
       "      <td>...</td>\n",
       "      <td>...</td>\n",
       "      <td>...</td>\n",
       "      <td>...</td>\n",
       "      <td>...</td>\n",
       "      <td>...</td>\n",
       "    </tr>\n",
       "    <tr>\n",
       "      <th>169</th>\n",
       "      <td>511</td>\n",
       "      <td>Bakel</td>\n",
       "      <td>SN</td>\n",
       "      <td>67.06</td>\n",
       "      <td>clear sky</td>\n",
       "      <td>14.90</td>\n",
       "      <td>-12.46</td>\n",
       "      <td>Hôtel islam</td>\n",
       "    </tr>\n",
       "    <tr>\n",
       "      <th>170</th>\n",
       "      <td>512</td>\n",
       "      <td>Radhanpur</td>\n",
       "      <td>IN</td>\n",
       "      <td>78.58</td>\n",
       "      <td>clear sky</td>\n",
       "      <td>23.83</td>\n",
       "      <td>71.61</td>\n",
       "      <td>YASH HOTEL</td>\n",
       "    </tr>\n",
       "    <tr>\n",
       "      <th>171</th>\n",
       "      <td>521</td>\n",
       "      <td>Mareeba</td>\n",
       "      <td>AU</td>\n",
       "      <td>82.99</td>\n",
       "      <td>broken clouds</td>\n",
       "      <td>-16.99</td>\n",
       "      <td>145.42</td>\n",
       "      <td>Mareeba Country Caravan Park</td>\n",
       "    </tr>\n",
       "    <tr>\n",
       "      <th>172</th>\n",
       "      <td>524</td>\n",
       "      <td>Wangaratta</td>\n",
       "      <td>AU</td>\n",
       "      <td>66.00</td>\n",
       "      <td>light intensity shower rain</td>\n",
       "      <td>-36.36</td>\n",
       "      <td>146.32</td>\n",
       "      <td>Quality Hotel Wangaratta Gateway</td>\n",
       "    </tr>\n",
       "    <tr>\n",
       "      <th>173</th>\n",
       "      <td>531</td>\n",
       "      <td>Mogadishu</td>\n",
       "      <td>SO</td>\n",
       "      <td>86.00</td>\n",
       "      <td>few clouds</td>\n",
       "      <td>2.04</td>\n",
       "      <td>45.34</td>\n",
       "      <td>Olympic Hotel</td>\n",
       "    </tr>\n",
       "  </tbody>\n",
       "</table>\n",
       "<p>174 rows × 8 columns</p>\n",
       "</div>"
      ],
      "text/plain": [
       "     City_ID             City Country  Max Temp          Weather Description  \\\n",
       "0          0        Busselton      AU     87.01                    clear sky   \n",
       "1          1          Rikitea      PF     75.65                broken clouds   \n",
       "2          9    Cockburn Town      TC     76.89             scattered clouds   \n",
       "3         11      East London      ZA     73.40              overcast clouds   \n",
       "4         13  Arraial Do Cabo      BR     73.40                broken clouds   \n",
       "..       ...              ...     ...       ...                          ...   \n",
       "169      511            Bakel      SN     67.06                    clear sky   \n",
       "170      512        Radhanpur      IN     78.58                    clear sky   \n",
       "171      521          Mareeba      AU     82.99                broken clouds   \n",
       "172      524       Wangaratta      AU     66.00  light intensity shower rain   \n",
       "173      531        Mogadishu      SO     86.00                   few clouds   \n",
       "\n",
       "       Lat     Lng                        Hotel Name  \n",
       "0   -33.64  115.35           Observatory Guest House  \n",
       "1   -23.12 -134.97                    Pension Maro'i  \n",
       "2    21.46  -71.14                Osprey Beach Hotel  \n",
       "3   -33.02   27.91                           Tu Casa  \n",
       "4   -22.97  -42.02               Pousada Porto Praia  \n",
       "..     ...     ...                               ...  \n",
       "169  14.90  -12.46                       Hôtel islam  \n",
       "170  23.83   71.61                        YASH HOTEL  \n",
       "171 -16.99  145.42      Mareeba Country Caravan Park  \n",
       "172 -36.36  146.32  Quality Hotel Wangaratta Gateway  \n",
       "173   2.04   45.34                     Olympic Hotel  \n",
       "\n",
       "[174 rows x 8 columns]"
      ]
     },
     "execution_count": 17,
     "metadata": {},
     "output_type": "execute_result"
    }
   ],
   "source": [
    "# Store the CSV saved and created in part one into a DataFrame.\n",
    "city_data_df = pd.read_csv(\"weather_data/WeatherPy_vacation.csv\")\n",
    "city_data_df"
   ]
  },
  {
   "cell_type": "code",
   "execution_count": 33,
   "metadata": {},
   "outputs": [
    {
     "data": {
      "text/html": [
       "<div>\n",
       "<style scoped>\n",
       "    .dataframe tbody tr th:only-of-type {\n",
       "        vertical-align: middle;\n",
       "    }\n",
       "\n",
       "    .dataframe tbody tr th {\n",
       "        vertical-align: top;\n",
       "    }\n",
       "\n",
       "    .dataframe thead th {\n",
       "        text-align: right;\n",
       "    }\n",
       "</style>\n",
       "<table border=\"1\" class=\"dataframe\">\n",
       "  <thead>\n",
       "    <tr style=\"text-align: right;\">\n",
       "      <th></th>\n",
       "      <th>City_ID</th>\n",
       "      <th>City</th>\n",
       "      <th>Country</th>\n",
       "      <th>Max Temp</th>\n",
       "      <th>Weather Description</th>\n",
       "      <th>Lat</th>\n",
       "      <th>Lng</th>\n",
       "      <th>Hotel Name</th>\n",
       "    </tr>\n",
       "  </thead>\n",
       "  <tbody>\n",
       "    <tr>\n",
       "      <th>149</th>\n",
       "      <td>449</td>\n",
       "      <td>San Marcos</td>\n",
       "      <td>GT</td>\n",
       "      <td>71.6</td>\n",
       "      <td>clear sky</td>\n",
       "      <td>14.97</td>\n",
       "      <td>-91.79</td>\n",
       "      <td>Hospedaje La Villa</td>\n",
       "    </tr>\n",
       "  </tbody>\n",
       "</table>\n",
       "</div>"
      ],
      "text/plain": [
       "     City_ID        City Country  Max Temp Weather Description    Lat    Lng  \\\n",
       "149      449  San Marcos      GT      71.6           clear sky  14.97 -91.79   \n",
       "\n",
       "             Hotel Name  \n",
       "149  Hospedaje La Villa  "
      ]
     },
     "execution_count": 33,
     "metadata": {},
     "output_type": "execute_result"
    }
   ],
   "source": [
    "San_Marcos_df = city_data_df.loc[(city_data_df[\"City\"] == \"San Marcos\")] \n",
    "San_Marcos_df"
   ]
  },
  {
   "cell_type": "code",
   "execution_count": 34,
   "metadata": {
    "scrolled": true
   },
   "outputs": [
    {
     "data": {
      "text/html": [
       "<div>\n",
       "<style scoped>\n",
       "    .dataframe tbody tr th:only-of-type {\n",
       "        vertical-align: middle;\n",
       "    }\n",
       "\n",
       "    .dataframe tbody tr th {\n",
       "        vertical-align: top;\n",
       "    }\n",
       "\n",
       "    .dataframe thead th {\n",
       "        text-align: right;\n",
       "    }\n",
       "</style>\n",
       "<table border=\"1\" class=\"dataframe\">\n",
       "  <thead>\n",
       "    <tr style=\"text-align: right;\">\n",
       "      <th></th>\n",
       "      <th>City_ID</th>\n",
       "      <th>City</th>\n",
       "      <th>Country</th>\n",
       "      <th>Max Temp</th>\n",
       "      <th>Weather Description</th>\n",
       "      <th>Lat</th>\n",
       "      <th>Lng</th>\n",
       "      <th>Hotel Name</th>\n",
       "    </tr>\n",
       "  </thead>\n",
       "  <tbody>\n",
       "    <tr>\n",
       "      <th>51</th>\n",
       "      <td>141</td>\n",
       "      <td>Acajutla</td>\n",
       "      <td>SV</td>\n",
       "      <td>69.01</td>\n",
       "      <td>clear sky</td>\n",
       "      <td>13.59</td>\n",
       "      <td>-89.83</td>\n",
       "      <td>Villavela Hotel Boutique</td>\n",
       "    </tr>\n",
       "  </tbody>\n",
       "</table>\n",
       "</div>"
      ],
      "text/plain": [
       "    City_ID      City Country  Max Temp Weather Description    Lat    Lng  \\\n",
       "51      141  Acajutla      SV     69.01           clear sky  13.59 -89.83   \n",
       "\n",
       "                  Hotel Name  \n",
       "51  Villavela Hotel Boutique  "
      ]
     },
     "execution_count": 34,
     "metadata": {},
     "output_type": "execute_result"
    }
   ],
   "source": [
    "Acajutla_df = city_data_df.loc[(city_data_df[\"City\"] == \"Acajutla\")] \n",
    "Acajutla_df"
   ]
  },
  {
   "cell_type": "code",
   "execution_count": 35,
   "metadata": {},
   "outputs": [
    {
     "data": {
      "text/html": [
       "<div>\n",
       "<style scoped>\n",
       "    .dataframe tbody tr th:only-of-type {\n",
       "        vertical-align: middle;\n",
       "    }\n",
       "\n",
       "    .dataframe tbody tr th {\n",
       "        vertical-align: top;\n",
       "    }\n",
       "\n",
       "    .dataframe thead th {\n",
       "        text-align: right;\n",
       "    }\n",
       "</style>\n",
       "<table border=\"1\" class=\"dataframe\">\n",
       "  <thead>\n",
       "    <tr style=\"text-align: right;\">\n",
       "      <th></th>\n",
       "      <th>City_ID</th>\n",
       "      <th>City</th>\n",
       "      <th>Country</th>\n",
       "      <th>Max Temp</th>\n",
       "      <th>Weather Description</th>\n",
       "      <th>Lat</th>\n",
       "      <th>Lng</th>\n",
       "      <th>Hotel Name</th>\n",
       "    </tr>\n",
       "  </thead>\n",
       "  <tbody>\n",
       "    <tr>\n",
       "      <th>18</th>\n",
       "      <td>52</td>\n",
       "      <td>Zaragoza</td>\n",
       "      <td>SV</td>\n",
       "      <td>78.8</td>\n",
       "      <td>clear sky</td>\n",
       "      <td>13.59</td>\n",
       "      <td>-89.29</td>\n",
       "      <td>Auto Hotel River Zaragoza</td>\n",
       "    </tr>\n",
       "  </tbody>\n",
       "</table>\n",
       "</div>"
      ],
      "text/plain": [
       "    City_ID      City Country  Max Temp Weather Description    Lat    Lng  \\\n",
       "18       52  Zaragoza      SV      78.8           clear sky  13.59 -89.29   \n",
       "\n",
       "                   Hotel Name  \n",
       "18  Auto Hotel River Zaragoza  "
      ]
     },
     "execution_count": 35,
     "metadata": {},
     "output_type": "execute_result"
    }
   ],
   "source": [
    "Zaragoza_df = city_data_df.loc[(city_data_df[\"City\"] == \"Zaragoza\")] \n",
    "Zaragoza_df"
   ]
  },
  {
   "cell_type": "code",
   "execution_count": 36,
   "metadata": {},
   "outputs": [
    {
     "data": {
      "text/html": [
       "<div>\n",
       "<style scoped>\n",
       "    .dataframe tbody tr th:only-of-type {\n",
       "        vertical-align: middle;\n",
       "    }\n",
       "\n",
       "    .dataframe tbody tr th {\n",
       "        vertical-align: top;\n",
       "    }\n",
       "\n",
       "    .dataframe thead th {\n",
       "        text-align: right;\n",
       "    }\n",
       "</style>\n",
       "<table border=\"1\" class=\"dataframe\">\n",
       "  <thead>\n",
       "    <tr style=\"text-align: right;\">\n",
       "      <th></th>\n",
       "      <th>City_ID</th>\n",
       "      <th>City</th>\n",
       "      <th>Country</th>\n",
       "      <th>Max Temp</th>\n",
       "      <th>Weather Description</th>\n",
       "      <th>Lat</th>\n",
       "      <th>Lng</th>\n",
       "      <th>Hotel Name</th>\n",
       "    </tr>\n",
       "  </thead>\n",
       "  <tbody>\n",
       "    <tr>\n",
       "      <th>66</th>\n",
       "      <td>179</td>\n",
       "      <td>Amapa</td>\n",
       "      <td>HN</td>\n",
       "      <td>71.6</td>\n",
       "      <td>overcast clouds</td>\n",
       "      <td>15.09</td>\n",
       "      <td>-87.97</td>\n",
       "      <td>Incubadora GAHSA</td>\n",
       "    </tr>\n",
       "  </tbody>\n",
       "</table>\n",
       "</div>"
      ],
      "text/plain": [
       "    City_ID   City Country  Max Temp Weather Description    Lat    Lng  \\\n",
       "66      179  Amapa      HN      71.6     overcast clouds  15.09 -87.97   \n",
       "\n",
       "          Hotel Name  \n",
       "66  Incubadora GAHSA  "
      ]
     },
     "execution_count": 36,
     "metadata": {},
     "output_type": "execute_result"
    }
   ],
   "source": [
    "Amapa_df = city_data_df.loc[(city_data_df[\"City\"] == \"Amapa\")] \n",
    "Amapa_df"
   ]
  },
  {
   "cell_type": "code",
   "execution_count": 37,
   "metadata": {},
   "outputs": [
    {
     "data": {
      "text/html": [
       "<div>\n",
       "<style scoped>\n",
       "    .dataframe tbody tr th:only-of-type {\n",
       "        vertical-align: middle;\n",
       "    }\n",
       "\n",
       "    .dataframe tbody tr th {\n",
       "        vertical-align: top;\n",
       "    }\n",
       "\n",
       "    .dataframe thead th {\n",
       "        text-align: right;\n",
       "    }\n",
       "</style>\n",
       "<table border=\"1\" class=\"dataframe\">\n",
       "  <thead>\n",
       "    <tr style=\"text-align: right;\">\n",
       "      <th></th>\n",
       "      <th>City_ID</th>\n",
       "      <th>City</th>\n",
       "      <th>Country</th>\n",
       "      <th>Max Temp</th>\n",
       "      <th>Weather Description</th>\n",
       "      <th>Lat</th>\n",
       "      <th>Lng</th>\n",
       "      <th>Hotel Name</th>\n",
       "    </tr>\n",
       "  </thead>\n",
       "  <tbody>\n",
       "    <tr>\n",
       "      <th>56</th>\n",
       "      <td>164</td>\n",
       "      <td>Laguna</td>\n",
       "      <td>BZ</td>\n",
       "      <td>71.6</td>\n",
       "      <td>broken clouds</td>\n",
       "      <td>16.17</td>\n",
       "      <td>-88.94</td>\n",
       "      <td>Laguna Maya Lodge</td>\n",
       "    </tr>\n",
       "  </tbody>\n",
       "</table>\n",
       "</div>"
      ],
      "text/plain": [
       "    City_ID    City Country  Max Temp Weather Description    Lat    Lng  \\\n",
       "56      164  Laguna      BZ      71.6       broken clouds  16.17 -88.94   \n",
       "\n",
       "           Hotel Name  \n",
       "56  Laguna Maya Lodge  "
      ]
     },
     "execution_count": 37,
     "metadata": {},
     "output_type": "execute_result"
    }
   ],
   "source": [
    "Laguna_df = city_data_df.loc[(city_data_df[\"City\"] == \"Laguna\")] \n",
    "Laguna_df"
   ]
  },
  {
   "cell_type": "code",
   "execution_count": 38,
   "metadata": {},
   "outputs": [
    {
     "data": {
      "text/html": [
       "<div>\n",
       "<style scoped>\n",
       "    .dataframe tbody tr th:only-of-type {\n",
       "        vertical-align: middle;\n",
       "    }\n",
       "\n",
       "    .dataframe tbody tr th {\n",
       "        vertical-align: top;\n",
       "    }\n",
       "\n",
       "    .dataframe thead th {\n",
       "        text-align: right;\n",
       "    }\n",
       "</style>\n",
       "<table border=\"1\" class=\"dataframe\">\n",
       "  <thead>\n",
       "    <tr style=\"text-align: right;\">\n",
       "      <th></th>\n",
       "      <th>City_ID</th>\n",
       "      <th>City</th>\n",
       "      <th>Country</th>\n",
       "      <th>Max Temp</th>\n",
       "      <th>Weather Description</th>\n",
       "      <th>Lat</th>\n",
       "      <th>Lng</th>\n",
       "      <th>Hotel Name</th>\n",
       "    </tr>\n",
       "  </thead>\n",
       "  <tbody>\n",
       "    <tr>\n",
       "      <th>18</th>\n",
       "      <td>52</td>\n",
       "      <td>Zaragoza</td>\n",
       "      <td>SV</td>\n",
       "      <td>78.80</td>\n",
       "      <td>clear sky</td>\n",
       "      <td>13.59</td>\n",
       "      <td>-89.29</td>\n",
       "      <td>Auto Hotel River Zaragoza</td>\n",
       "    </tr>\n",
       "    <tr>\n",
       "      <th>51</th>\n",
       "      <td>141</td>\n",
       "      <td>Acajutla</td>\n",
       "      <td>SV</td>\n",
       "      <td>69.01</td>\n",
       "      <td>clear sky</td>\n",
       "      <td>13.59</td>\n",
       "      <td>-89.83</td>\n",
       "      <td>Villavela Hotel Boutique</td>\n",
       "    </tr>\n",
       "    <tr>\n",
       "      <th>56</th>\n",
       "      <td>164</td>\n",
       "      <td>Laguna</td>\n",
       "      <td>BZ</td>\n",
       "      <td>71.60</td>\n",
       "      <td>broken clouds</td>\n",
       "      <td>16.17</td>\n",
       "      <td>-88.94</td>\n",
       "      <td>Laguna Maya Lodge</td>\n",
       "    </tr>\n",
       "    <tr>\n",
       "      <th>66</th>\n",
       "      <td>179</td>\n",
       "      <td>Amapa</td>\n",
       "      <td>HN</td>\n",
       "      <td>71.60</td>\n",
       "      <td>overcast clouds</td>\n",
       "      <td>15.09</td>\n",
       "      <td>-87.97</td>\n",
       "      <td>Incubadora GAHSA</td>\n",
       "    </tr>\n",
       "    <tr>\n",
       "      <th>149</th>\n",
       "      <td>449</td>\n",
       "      <td>San Marcos</td>\n",
       "      <td>GT</td>\n",
       "      <td>71.60</td>\n",
       "      <td>clear sky</td>\n",
       "      <td>14.97</td>\n",
       "      <td>-91.79</td>\n",
       "      <td>Hospedaje La Villa</td>\n",
       "    </tr>\n",
       "  </tbody>\n",
       "</table>\n",
       "</div>"
      ],
      "text/plain": [
       "     City_ID        City Country  Max Temp Weather Description    Lat    Lng  \\\n",
       "18        52    Zaragoza      SV     78.80           clear sky  13.59 -89.29   \n",
       "51       141    Acajutla      SV     69.01           clear sky  13.59 -89.83   \n",
       "56       164      Laguna      BZ     71.60       broken clouds  16.17 -88.94   \n",
       "66       179       Amapa      HN     71.60     overcast clouds  15.09 -87.97   \n",
       "149      449  San Marcos      GT     71.60           clear sky  14.97 -91.79   \n",
       "\n",
       "                    Hotel Name  \n",
       "18   Auto Hotel River Zaragoza  \n",
       "51    Villavela Hotel Boutique  \n",
       "56           Laguna Maya Lodge  \n",
       "66            Incubadora GAHSA  \n",
       "149         Hospedaje La Villa  "
      ]
     },
     "execution_count": 38,
     "metadata": {},
     "output_type": "execute_result"
    }
   ],
   "source": [
    "vacation_cities_df = city_data_df.loc[city_data_df[\"City\"].isin([\"San Marcos\", \"Acajutla\", \"Zaragoza\", \"Amapa\", \"Laguna\"])]\n",
    "vacation_cities_df"
   ]
  },
  {
   "cell_type": "code",
   "execution_count": 39,
   "metadata": {},
   "outputs": [
    {
     "data": {
      "text/plain": [
       "[(13.59, -89.29),\n",
       " (13.59, -89.83),\n",
       " (16.17, -88.94),\n",
       " (15.09, -87.97),\n",
       " (14.97, -91.79)]"
      ]
     },
     "execution_count": 39,
     "metadata": {},
     "output_type": "execute_result"
    }
   ],
   "source": [
    "# Create latitude and longitude pairs.\n",
    "vacation_cities_lng_lat = vacation_cities_df[[\"Lat\", \"Lng\"]]\n",
    "vacation_cities_tuple = [tuple(x) for x in vacation_cities_lng_lat.values]\n",
    "vacation_cities_tuple"
   ]
  },
  {
   "cell_type": "code",
   "execution_count": 40,
   "metadata": {},
   "outputs": [
    {
     "data": {
      "text/plain": [
       "[(13.59, -89.29)]"
      ]
     },
     "execution_count": 40,
     "metadata": {},
     "output_type": "execute_result"
    }
   ],
   "source": [
    "# Create latitude and longitude for Zaragoza\n",
    "Zaragoza_lng_lat = Zaragoza_df[[\"Lat\", \"Lng\"]]\n",
    "Zaragoza_tuple = [tuple(x) for x in Zaragoza_lng_lat.values]\n",
    "Zaragoza_tuple"
   ]
  },
  {
   "cell_type": "code",
   "execution_count": 41,
   "metadata": {},
   "outputs": [
    {
     "data": {
      "text/plain": [
       "[(13.59, -89.83)]"
      ]
     },
     "execution_count": 41,
     "metadata": {},
     "output_type": "execute_result"
    }
   ],
   "source": [
    "# Create latitude and longitude for Acajutla\n",
    "Acajutla_lng_lat = Acajutla_df[[\"Lat\", \"Lng\"]]\n",
    "Acajutla_tuple = [tuple(x) for x in Acajutla_lng_lat.values]\n",
    "Acajutla_tuple"
   ]
  },
  {
   "cell_type": "code",
   "execution_count": 42,
   "metadata": {},
   "outputs": [
    {
     "data": {
      "text/plain": [
       "[(16.17, -88.94)]"
      ]
     },
     "execution_count": 42,
     "metadata": {},
     "output_type": "execute_result"
    }
   ],
   "source": [
    "# Create latitude and longitude for Laguna\n",
    "Laguna_lng_lat = Laguna_df[[\"Lat\", \"Lng\"]]\n",
    "Laguna_tuple = [tuple(x) for x in Laguna_lng_lat.values]\n",
    "Laguna_tuple"
   ]
  },
  {
   "cell_type": "code",
   "execution_count": 43,
   "metadata": {},
   "outputs": [
    {
     "data": {
      "text/plain": [
       "[(15.09, -87.97)]"
      ]
     },
     "execution_count": 43,
     "metadata": {},
     "output_type": "execute_result"
    }
   ],
   "source": [
    "# Create latitude and longitude for Amapa\n",
    "Amapa_lng_lat = Amapa_df[[\"Lat\", \"Lng\"]]\n",
    "Amapa_tuple = [tuple(x) for x in Amapa_lng_lat.values]\n",
    "Amapa_tuple"
   ]
  },
  {
   "cell_type": "code",
   "execution_count": 44,
   "metadata": {},
   "outputs": [
    {
     "data": {
      "text/plain": [
       "[(14.97, -91.79)]"
      ]
     },
     "execution_count": 44,
     "metadata": {},
     "output_type": "execute_result"
    }
   ],
   "source": [
    "# Create latitude and longitude for San Marcos\n",
    "San_Marcos_lng_lat = San_Marcos_df[[\"Lat\", \"Lng\"]]\n",
    "San_Marcos_tuple = [tuple(x) for x in San_Marcos_lng_lat.values]\n",
    "San_Marcos_tuple"
   ]
  },
  {
   "cell_type": "code",
   "execution_count": 47,
   "metadata": {},
   "outputs": [
    {
     "data": {
      "application/vnd.jupyter.widget-view+json": {
       "model_id": "282b2e316fb640e59c0a93f31c87959a",
       "version_major": 2,
       "version_minor": 0
      },
      "text/plain": [
       "Figure(layout=FigureLayout(height='420px'))"
      ]
     },
     "metadata": {},
     "output_type": "display_data"
    }
   ],
   "source": [
    "# Create a direction map.\n",
    "Zaragoza = (13.59, -89.29)\n",
    "Acajutla = (13.59, -89.83)\n",
    "Laguna = (16.17, -88.94)\n",
    "Amapa = (15.09, -87.97)\n",
    "San_Marcos = (14.97, -91.79)\n",
    "# Driving directions to each of the 5 cities.\n",
    "fig = gmaps.figure()\n",
    "driving_directions = gmaps.directions_layer(Laguna, San_Marcos, waypoints=[Amapa, Zaragoza, Acajutla], travel_mode=\"DRIVING\")\n",
    "fig.add_layer(driving_directions)\n",
    "fig\n"
   ]
  },
  {
   "cell_type": "code",
   "execution_count": 48,
   "metadata": {},
   "outputs": [],
   "source": [
    "# Set the information box categories.\n",
    "info_box_template = \"\"\"\n",
    "<dl>\n",
    "<dt>Hotel Name</dt><dd>{Hotel Name}</dd>\n",
    "<dt>City</dt><dd>{City}</dd>\n",
    "<dt>Country</dt><dd>{Country}</dd>\n",
    "<dt>Current Weather</dt><dd>{Weather Description} and {Max Temp} °F</dd>\n",
    "</dl>\n",
    "\"\"\""
   ]
  },
  {
   "cell_type": "code",
   "execution_count": 49,
   "metadata": {},
   "outputs": [],
   "source": [
    "# Store the DataFrame Row.\n",
    "hotel_info = [info_box_template.format(**row) for index, row in vacation_cities_df.iterrows()]"
   ]
  },
  {
   "cell_type": "code",
   "execution_count": 51,
   "metadata": {},
   "outputs": [
    {
     "data": {
      "application/vnd.jupyter.widget-view+json": {
       "model_id": "aade00beeeae4414bccb4cc4b84ef6e9",
       "version_major": 2,
       "version_minor": 0
      },
      "text/plain": [
       "Figure(layout=FigureLayout(height='420px'))"
      ]
     },
     "metadata": {},
     "output_type": "display_data"
    }
   ],
   "source": [
    "# Add a heatmap of temperature for the vacation spots and marker for each city.\n",
    "locations = vacation_cities_df[[\"Lat\", \"Lng\"]]\n",
    "current_weather = vacation_cities_df[\"Max Temp\"]\n",
    "fig = gmaps.figure(center=(30.0, 31.0), zoom_level=1.5)\n",
    "\n",
    "marker_layer = gmaps.marker_layer(locations, info_box_content=hotel_info)\n",
    "\n",
    "fig.add_layer(marker_layer)\n",
    "# Call the figure to plot the data.\n",
    "fig"
   ]
  },
  {
   "cell_type": "code",
   "execution_count": null,
   "metadata": {},
   "outputs": [],
   "source": []
  }
 ],
 "metadata": {
  "kernelspec": {
   "display_name": "PythonData",
   "language": "python",
   "name": "pythondata"
  },
  "language_info": {
   "codemirror_mode": {
    "name": "ipython",
    "version": 3
   },
   "file_extension": ".py",
   "mimetype": "text/x-python",
   "name": "python",
   "nbconvert_exporter": "python",
   "pygments_lexer": "ipython3",
   "version": "3.6.9"
  }
 },
 "nbformat": 4,
 "nbformat_minor": 2
}
